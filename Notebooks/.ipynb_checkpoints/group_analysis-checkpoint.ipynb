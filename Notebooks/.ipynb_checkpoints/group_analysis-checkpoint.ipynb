{
 "cells": [
  {
   "cell_type": "markdown",
   "metadata": {},
   "source": [
    "# Energy/Emissions/Air Quality Data analysis\n",
    "## Group effort to review datasets"
   ]
  },
  {
   "cell_type": "markdown",
   "metadata": {},
   "source": [
    "### Import dependencies, setup database connection"
   ]
  },
  {
   "cell_type": "code",
   "execution_count": 2,
   "metadata": {},
   "outputs": [],
   "source": [
    "import os\n",
    "import psycopg2\n",
    "import pandas as pd\n",
    "from pprint import pprint\n",
    "import matplotlib.pyplot as plt\n",
    "from scipy import stats\n",
    "import statsmodels.api as sm \n",
    "import numpy as np\n",
    "import psycopg2.extras"
   ]
  },
  {
   "cell_type": "code",
   "execution_count": 4,
   "metadata": {},
   "outputs": [],
   "source": [
    "# setup connection\n",
    "from sqlalchemy import create_engine\n",
    "\n",
    "hostname = 'localhost'\n",
    "username = 'postgres'\n",
    "password = 'postgres'\n",
    "database = 'energy_db'\n",
    "\n",
    "connection = psycopg2.connect(host=hostname, user=username, password=password, dbname=database )"
   ]
  },
  {
   "cell_type": "markdown",
   "metadata": {},
   "source": [
    "### Just curious (who burns the most coal?)"
   ]
  },
  {
   "cell_type": "code",
   "execution_count": 5,
   "metadata": {},
   "outputs": [
    {
     "data": {
      "text/html": [
       "<div>\n",
       "<style scoped>\n",
       "    .dataframe tbody tr th:only-of-type {\n",
       "        vertical-align: middle;\n",
       "    }\n",
       "\n",
       "    .dataframe tbody tr th {\n",
       "        vertical-align: top;\n",
       "    }\n",
       "\n",
       "    .dataframe thead th {\n",
       "        text-align: right;\n",
       "    }\n",
       "</style>\n",
       "<table border=\"1\" class=\"dataframe\">\n",
       "  <thead>\n",
       "    <tr style=\"text-align: right;\">\n",
       "      <th></th>\n",
       "      <th>state</th>\n",
       "      <th>year</th>\n",
       "      <th>generation_mwh</th>\n",
       "      <th>co2_mt</th>\n",
       "      <th>so2_mt</th>\n",
       "      <th>nox_mt</th>\n",
       "    </tr>\n",
       "  </thead>\n",
       "  <tbody>\n",
       "    <tr>\n",
       "      <td>0</td>\n",
       "      <td>IL</td>\n",
       "      <td>1990</td>\n",
       "      <td>54966018.0</td>\n",
       "      <td>58336624.0</td>\n",
       "      <td>845232.0</td>\n",
       "      <td>330004.0</td>\n",
       "    </tr>\n",
       "    <tr>\n",
       "      <td>1</td>\n",
       "      <td>IN</td>\n",
       "      <td>1990</td>\n",
       "      <td>96925554.0</td>\n",
       "      <td>95600952.0</td>\n",
       "      <td>1273237.0</td>\n",
       "      <td>484016.0</td>\n",
       "    </tr>\n",
       "    <tr>\n",
       "      <td>2</td>\n",
       "      <td>KY</td>\n",
       "      <td>1990</td>\n",
       "      <td>70500461.0</td>\n",
       "      <td>66585266.0</td>\n",
       "      <td>818339.0</td>\n",
       "      <td>300852.0</td>\n",
       "    </tr>\n",
       "    <tr>\n",
       "      <td>3</td>\n",
       "      <td>MI</td>\n",
       "      <td>1990</td>\n",
       "      <td>67066870.0</td>\n",
       "      <td>65192865.0</td>\n",
       "      <td>362913.0</td>\n",
       "      <td>295425.0</td>\n",
       "    </tr>\n",
       "    <tr>\n",
       "      <td>4</td>\n",
       "      <td>MO</td>\n",
       "      <td>1990</td>\n",
       "      <td>48796793.0</td>\n",
       "      <td>48378620.0</td>\n",
       "      <td>720786.0</td>\n",
       "      <td>261405.0</td>\n",
       "    </tr>\n",
       "  </tbody>\n",
       "</table>\n",
       "</div>"
      ],
      "text/plain": [
       "  state  year  generation_mwh      co2_mt     so2_mt    nox_mt\n",
       "0    IL  1990      54966018.0  58336624.0   845232.0  330004.0\n",
       "1    IN  1990      96925554.0  95600952.0  1273237.0  484016.0\n",
       "2    KY  1990      70500461.0  66585266.0   818339.0  300852.0\n",
       "3    MI  1990      67066870.0  65192865.0   362913.0  295425.0\n",
       "4    MO  1990      48796793.0  48378620.0   720786.0  261405.0"
      ]
     },
     "execution_count": 5,
     "metadata": {},
     "output_type": "execute_result"
    }
   ],
   "source": [
    "top_coal_df = pd.read_sql_query('select * from \"top_10_coal_state_stats\"',con=connection)\n",
    "\n",
    "top_coal_df.head()"
   ]
  },
  {
   "cell_type": "code",
   "execution_count": null,
   "metadata": {},
   "outputs": [],
   "source": []
  }
 ],
 "metadata": {
  "kernelspec": {
   "display_name": "Python 3",
   "language": "python",
   "name": "python3"
  },
  "language_info": {
   "codemirror_mode": {
    "name": "ipython",
    "version": 3
   },
   "file_extension": ".py",
   "mimetype": "text/x-python",
   "name": "python",
   "nbconvert_exporter": "python",
   "pygments_lexer": "ipython3",
   "version": "3.7.4"
  }
 },
 "nbformat": 4,
 "nbformat_minor": 4
}
